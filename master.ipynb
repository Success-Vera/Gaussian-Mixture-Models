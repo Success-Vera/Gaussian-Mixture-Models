{
  "nbformat": 4,
  "nbformat_minor": 0,
  "metadata": {
    "colab": {
      "name": "master.ipynb",
      "provenance": [],
      "collapsed_sections": [],
      "mount_file_id": "1tPaAdgseoJn72JhVb1CQAlBDDYtiEkBK",
      "authorship_tag": "ABX9TyN++8PLFgF4053g35HF+4UC",
      "include_colab_link": true
    },
    "kernelspec": {
      "name": "python3",
      "display_name": "Python 3"
    },
    "language_info": {
      "name": "python"
    }
  },
  "cells": [
    {
      "cell_type": "markdown",
      "metadata": {
        "id": "view-in-github",
        "colab_type": "text"
      },
      "source": [
        "<a href=\"https://colab.research.google.com/github/Success-Vera/Gaussian-Mixture-Models/blob/main/master.ipynb\" target=\"_parent\"><img src=\"https://colab.research.google.com/assets/colab-badge.svg\" alt=\"Open In Colab\"/></a>"
      ]
    },
    {
      "cell_type": "markdown",
      "source": [
        "## Reading Our Custom Libraries"
      ],
      "metadata": {
        "id": "slhTfN66phHb"
      }
    },
    {
      "cell_type": "markdown",
      "source": [
        "## Run these cells without changing anything"
      ],
      "metadata": {
        "id": "yVCxWaC-ObJA"
      }
    },
    {
      "cell_type": "code",
      "source": [
        "user = \"Success-Vera\"\n",
        "repo = \"Gaussian-Mixture-Models\"\n",
        "\n",
        "prepfile='preprocessing.py' #our preprocessing library\n",
        "svd='SVD.py' #our svd library\n",
        "\n",
        "url = f\"https://raw.githubusercontent.com/{user}/{repo}/main/{pyfile}\"\n",
        "!wget --no-cache --backups=1 {url}\n",
        "\n",
        "url2 = f\"https://raw.githubusercontent.com/{user}/{repo}/main/{prepfile}\"\n",
        "!wget --no-cache --backups=1 {url2}\n",
        "\n",
        "url3 = f\"https://raw.githubusercontent.com/{user}/{repo}/main/{svd}\"\n",
        "!wget --no-cache --backups=1 {url3}"
      ],
      "metadata": {
        "colab": {
          "base_uri": "https://localhost:8080/"
        },
        "id": "9HSk-vzCTc4R",
        "outputId": "be385c5b-017c-492d-9d94-fac690134a06"
      },
      "execution_count": 3,
      "outputs": [
        {
          "output_type": "stream",
          "name": "stdout",
          "text": [
            "--2022-04-22 09:15:56--  https://raw.githubusercontent.com/Success-Vera/Gaussian-Mixture-Models/main/frequency.py\n",
            "Resolving raw.githubusercontent.com (raw.githubusercontent.com)... 185.199.110.133, 185.199.109.133, 185.199.108.133, ...\n",
            "Connecting to raw.githubusercontent.com (raw.githubusercontent.com)|185.199.110.133|:443... connected.\n",
            "HTTP request sent, awaiting response... 200 OK\n",
            "Length: 3380 (3.3K) [text/plain]\n",
            "Failed to rename frequency.py to frequency.py.1: (2) No such file or directory\n",
            "Saving to: ‘frequency.py’\n",
            "\n",
            "\rfrequency.py          0%[                    ]       0  --.-KB/s               \rfrequency.py        100%[===================>]   3.30K  --.-KB/s    in 0s      \n",
            "\n",
            "2022-04-22 09:15:56 (47.1 MB/s) - ‘frequency.py’ saved [3380/3380]\n",
            "\n",
            "--2022-04-22 09:15:56--  https://raw.githubusercontent.com/Success-Vera/Gaussian-Mixture-Models/main/preprocessing.py\n",
            "Resolving raw.githubusercontent.com (raw.githubusercontent.com)... 185.199.108.133, 185.199.109.133, 185.199.110.133, ...\n",
            "Connecting to raw.githubusercontent.com (raw.githubusercontent.com)|185.199.108.133|:443... connected.\n",
            "HTTP request sent, awaiting response... 200 OK\n",
            "Length: 13630 (13K) [text/plain]\n",
            "Failed to rename preprocessing.py to preprocessing.py.1: (2) No such file or directory\n",
            "Saving to: ‘preprocessing.py’\n",
            "\n",
            "preprocessing.py    100%[===================>]  13.31K  --.-KB/s    in 0s      \n",
            "\n",
            "2022-04-22 09:15:56 (92.3 MB/s) - ‘preprocessing.py’ saved [13630/13630]\n",
            "\n",
            "--2022-04-22 09:15:56--  https://raw.githubusercontent.com/Success-Vera/Gaussian-Mixture-Models/main/SVD.py\n",
            "Resolving raw.githubusercontent.com (raw.githubusercontent.com)... 185.199.108.133, 185.199.109.133, 185.199.110.133, ...\n",
            "Connecting to raw.githubusercontent.com (raw.githubusercontent.com)|185.199.108.133|:443... connected.\n",
            "HTTP request sent, awaiting response... 200 OK\n",
            "Length: 560 [text/plain]\n",
            "Failed to rename SVD.py to SVD.py.1: (2) No such file or directory\n",
            "Saving to: ‘SVD.py’\n",
            "\n",
            "SVD.py              100%[===================>]     560  --.-KB/s    in 0s      \n",
            "\n",
            "2022-04-22 09:15:56 (38.7 MB/s) - ‘SVD.py’ saved [560/560]\n",
            "\n"
          ]
        }
      ]
    },
    {
      "cell_type": "code",
      "execution_count": 4,
      "metadata": {
        "id": "3nvcS2YyI1us"
      },
      "outputs": [],
      "source": [
        "import subprocess\n",
        "\n",
        "result = subprocess.run([\"wget\", \"--no-cache\", \"--backups=1\", url], stderr=subprocess.PIPE, stdout=subprocess.PIPE)\n",
        "result2 = subprocess.run([\"wget\", \"--no-cache\", \"--backups=1\", url2], stderr=subprocess.PIPE, stdout=subprocess.PIPE)\n",
        "result3 = subprocess.run([\"wget\", \"--no-cache\", \"--backups=1\", url2], stderr=subprocess.PIPE, stdout=subprocess.PIPE)\n",
        "\n",
        "# print(result2.stderr.decode(\"utf-8\"))"
      ]
    },
    {
      "cell_type": "code",
      "source": [
        "!unzip '/content/drive/MyDrive/GMM/IMDB Dataset.csv.zip'"
      ],
      "metadata": {
        "colab": {
          "base_uri": "https://localhost:8080/"
        },
        "id": "PJTzY_VgkCxX",
        "outputId": "a871cad8-94f4-46c3-8023-a97d6026cafc"
      },
      "execution_count": 9,
      "outputs": [
        {
          "output_type": "stream",
          "name": "stdout",
          "text": [
            "Archive:  /content/drive/MyDrive/GMM/IMDB Dataset.csv.zip\n",
            "  inflating: IMDB Dataset.csv        \n"
          ]
        }
      ]
    },
    {
      "cell_type": "markdown",
      "source": [
        "## Importing Libraries"
      ],
      "metadata": {
        "id": "SXC80Mxyplnh"
      }
    },
    {
      "cell_type": "code",
      "source": [
        "from preprocessing import forward\n",
        "import SVD \n",
        "import pandas as pd\n",
        "import numpy as np\n"
      ],
      "metadata": {
        "id": "zZPMRKRdWjih"
      },
      "execution_count": 32,
      "outputs": []
    },
    {
      "cell_type": "markdown",
      "source": [
        "## Data Preprocessing\n",
        "\n"
      ],
      "metadata": {
        "id": "HQd70KAX4gRu"
      }
    },
    {
      "cell_type": "code",
      "source": [
        "data=pd.read_csv('/content/IMDB Dataset.csv')\n",
        "data.head()"
      ],
      "metadata": {
        "colab": {
          "base_uri": "https://localhost:8080/",
          "height": 206
        },
        "id": "zy5bWbh6LLsM",
        "outputId": "aa347715-4b42-4eb6-bedb-48ffdf288630"
      },
      "execution_count": 10,
      "outputs": [
        {
          "output_type": "execute_result",
          "data": {
            "text/plain": [
              "                                              review sentiment\n",
              "0  One of the other reviewers has mentioned that ...  positive\n",
              "1  A wonderful little production. <br /><br />The...  positive\n",
              "2  I thought this was a wonderful way to spend ti...  positive\n",
              "3  Basically there's a family where a little boy ...  negative\n",
              "4  Petter Mattei's \"Love in the Time of Money\" is...  positive"
            ],
            "text/html": [
              "\n",
              "  <div id=\"df-e5500b0d-ddec-47d1-b038-26c96dc095bf\">\n",
              "    <div class=\"colab-df-container\">\n",
              "      <div>\n",
              "<style scoped>\n",
              "    .dataframe tbody tr th:only-of-type {\n",
              "        vertical-align: middle;\n",
              "    }\n",
              "\n",
              "    .dataframe tbody tr th {\n",
              "        vertical-align: top;\n",
              "    }\n",
              "\n",
              "    .dataframe thead th {\n",
              "        text-align: right;\n",
              "    }\n",
              "</style>\n",
              "<table border=\"1\" class=\"dataframe\">\n",
              "  <thead>\n",
              "    <tr style=\"text-align: right;\">\n",
              "      <th></th>\n",
              "      <th>review</th>\n",
              "      <th>sentiment</th>\n",
              "    </tr>\n",
              "  </thead>\n",
              "  <tbody>\n",
              "    <tr>\n",
              "      <th>0</th>\n",
              "      <td>One of the other reviewers has mentioned that ...</td>\n",
              "      <td>positive</td>\n",
              "    </tr>\n",
              "    <tr>\n",
              "      <th>1</th>\n",
              "      <td>A wonderful little production. &lt;br /&gt;&lt;br /&gt;The...</td>\n",
              "      <td>positive</td>\n",
              "    </tr>\n",
              "    <tr>\n",
              "      <th>2</th>\n",
              "      <td>I thought this was a wonderful way to spend ti...</td>\n",
              "      <td>positive</td>\n",
              "    </tr>\n",
              "    <tr>\n",
              "      <th>3</th>\n",
              "      <td>Basically there's a family where a little boy ...</td>\n",
              "      <td>negative</td>\n",
              "    </tr>\n",
              "    <tr>\n",
              "      <th>4</th>\n",
              "      <td>Petter Mattei's \"Love in the Time of Money\" is...</td>\n",
              "      <td>positive</td>\n",
              "    </tr>\n",
              "  </tbody>\n",
              "</table>\n",
              "</div>\n",
              "      <button class=\"colab-df-convert\" onclick=\"convertToInteractive('df-e5500b0d-ddec-47d1-b038-26c96dc095bf')\"\n",
              "              title=\"Convert this dataframe to an interactive table.\"\n",
              "              style=\"display:none;\">\n",
              "        \n",
              "  <svg xmlns=\"http://www.w3.org/2000/svg\" height=\"24px\"viewBox=\"0 0 24 24\"\n",
              "       width=\"24px\">\n",
              "    <path d=\"M0 0h24v24H0V0z\" fill=\"none\"/>\n",
              "    <path d=\"M18.56 5.44l.94 2.06.94-2.06 2.06-.94-2.06-.94-.94-2.06-.94 2.06-2.06.94zm-11 1L8.5 8.5l.94-2.06 2.06-.94-2.06-.94L8.5 2.5l-.94 2.06-2.06.94zm10 10l.94 2.06.94-2.06 2.06-.94-2.06-.94-.94-2.06-.94 2.06-2.06.94z\"/><path d=\"M17.41 7.96l-1.37-1.37c-.4-.4-.92-.59-1.43-.59-.52 0-1.04.2-1.43.59L10.3 9.45l-7.72 7.72c-.78.78-.78 2.05 0 2.83L4 21.41c.39.39.9.59 1.41.59.51 0 1.02-.2 1.41-.59l7.78-7.78 2.81-2.81c.8-.78.8-2.07 0-2.86zM5.41 20L4 18.59l7.72-7.72 1.47 1.35L5.41 20z\"/>\n",
              "  </svg>\n",
              "      </button>\n",
              "      \n",
              "  <style>\n",
              "    .colab-df-container {\n",
              "      display:flex;\n",
              "      flex-wrap:wrap;\n",
              "      gap: 12px;\n",
              "    }\n",
              "\n",
              "    .colab-df-convert {\n",
              "      background-color: #E8F0FE;\n",
              "      border: none;\n",
              "      border-radius: 50%;\n",
              "      cursor: pointer;\n",
              "      display: none;\n",
              "      fill: #1967D2;\n",
              "      height: 32px;\n",
              "      padding: 0 0 0 0;\n",
              "      width: 32px;\n",
              "    }\n",
              "\n",
              "    .colab-df-convert:hover {\n",
              "      background-color: #E2EBFA;\n",
              "      box-shadow: 0px 1px 2px rgba(60, 64, 67, 0.3), 0px 1px 3px 1px rgba(60, 64, 67, 0.15);\n",
              "      fill: #174EA6;\n",
              "    }\n",
              "\n",
              "    [theme=dark] .colab-df-convert {\n",
              "      background-color: #3B4455;\n",
              "      fill: #D2E3FC;\n",
              "    }\n",
              "\n",
              "    [theme=dark] .colab-df-convert:hover {\n",
              "      background-color: #434B5C;\n",
              "      box-shadow: 0px 1px 3px 1px rgba(0, 0, 0, 0.15);\n",
              "      filter: drop-shadow(0px 1px 2px rgba(0, 0, 0, 0.3));\n",
              "      fill: #FFFFFF;\n",
              "    }\n",
              "  </style>\n",
              "\n",
              "      <script>\n",
              "        const buttonEl =\n",
              "          document.querySelector('#df-e5500b0d-ddec-47d1-b038-26c96dc095bf button.colab-df-convert');\n",
              "        buttonEl.style.display =\n",
              "          google.colab.kernel.accessAllowed ? 'block' : 'none';\n",
              "\n",
              "        async function convertToInteractive(key) {\n",
              "          const element = document.querySelector('#df-e5500b0d-ddec-47d1-b038-26c96dc095bf');\n",
              "          const dataTable =\n",
              "            await google.colab.kernel.invokeFunction('convertToInteractive',\n",
              "                                                     [key], {});\n",
              "          if (!dataTable) return;\n",
              "\n",
              "          const docLinkHtml = 'Like what you see? Visit the ' +\n",
              "            '<a target=\"_blank\" href=https://colab.research.google.com/notebooks/data_table.ipynb>data table notebook</a>'\n",
              "            + ' to learn more about interactive tables.';\n",
              "          element.innerHTML = '';\n",
              "          dataTable['output_type'] = 'display_data';\n",
              "          await google.colab.output.renderOutput(dataTable, element);\n",
              "          const docLink = document.createElement('div');\n",
              "          docLink.innerHTML = docLinkHtml;\n",
              "          element.appendChild(docLink);\n",
              "        }\n",
              "      </script>\n",
              "    </div>\n",
              "  </div>\n",
              "  "
            ]
          },
          "metadata": {},
          "execution_count": 10
        }
      ]
    },
    {
      "cell_type": "code",
      "source": [
        "data['clean_text']=data['review'].apply(lambda X: forward(X))\n",
        "data.head()"
      ],
      "metadata": {
        "colab": {
          "base_uri": "https://localhost:8080/",
          "height": 206
        },
        "id": "lY1yPwuKWcaB",
        "outputId": "1a7a82bc-5df4-499e-c54a-baa998ac0ed3"
      },
      "execution_count": 11,
      "outputs": [
        {
          "output_type": "execute_result",
          "data": {
            "text/plain": [
              "                                              review sentiment  \\\n",
              "0  One of the other reviewers has mentioned that ...  positive   \n",
              "1  A wonderful little production. <br /><br />The...  positive   \n",
              "2  I thought this was a wonderful way to spend ti...  positive   \n",
              "3  Basically there's a family where a little boy ...  negative   \n",
              "4  Petter Mattei's \"Love in the Time of Money\" is...  positive   \n",
              "\n",
              "                                          clean_text  \n",
              "0  One review ment watc 1 Oz episod ll hook Thei ...  \n",
              "1  A wond littl product br br The fil techniqu un...  \n",
              "2  I thought wond wai spend time hot summ weekend...  \n",
              "3  Bas famili littl boi Jake think zombi closet p...  \n",
              "4  Pett Mattei Love Time Monei visu stun film wat...  "
            ],
            "text/html": [
              "\n",
              "  <div id=\"df-489bc904-6b90-476f-987d-0d591fb68dd0\">\n",
              "    <div class=\"colab-df-container\">\n",
              "      <div>\n",
              "<style scoped>\n",
              "    .dataframe tbody tr th:only-of-type {\n",
              "        vertical-align: middle;\n",
              "    }\n",
              "\n",
              "    .dataframe tbody tr th {\n",
              "        vertical-align: top;\n",
              "    }\n",
              "\n",
              "    .dataframe thead th {\n",
              "        text-align: right;\n",
              "    }\n",
              "</style>\n",
              "<table border=\"1\" class=\"dataframe\">\n",
              "  <thead>\n",
              "    <tr style=\"text-align: right;\">\n",
              "      <th></th>\n",
              "      <th>review</th>\n",
              "      <th>sentiment</th>\n",
              "      <th>clean_text</th>\n",
              "    </tr>\n",
              "  </thead>\n",
              "  <tbody>\n",
              "    <tr>\n",
              "      <th>0</th>\n",
              "      <td>One of the other reviewers has mentioned that ...</td>\n",
              "      <td>positive</td>\n",
              "      <td>One review ment watc 1 Oz episod ll hook Thei ...</td>\n",
              "    </tr>\n",
              "    <tr>\n",
              "      <th>1</th>\n",
              "      <td>A wonderful little production. &lt;br /&gt;&lt;br /&gt;The...</td>\n",
              "      <td>positive</td>\n",
              "      <td>A wond littl product br br The fil techniqu un...</td>\n",
              "    </tr>\n",
              "    <tr>\n",
              "      <th>2</th>\n",
              "      <td>I thought this was a wonderful way to spend ti...</td>\n",
              "      <td>positive</td>\n",
              "      <td>I thought wond wai spend time hot summ weekend...</td>\n",
              "    </tr>\n",
              "    <tr>\n",
              "      <th>3</th>\n",
              "      <td>Basically there's a family where a little boy ...</td>\n",
              "      <td>negative</td>\n",
              "      <td>Bas famili littl boi Jake think zombi closet p...</td>\n",
              "    </tr>\n",
              "    <tr>\n",
              "      <th>4</th>\n",
              "      <td>Petter Mattei's \"Love in the Time of Money\" is...</td>\n",
              "      <td>positive</td>\n",
              "      <td>Pett Mattei Love Time Monei visu stun film wat...</td>\n",
              "    </tr>\n",
              "  </tbody>\n",
              "</table>\n",
              "</div>\n",
              "      <button class=\"colab-df-convert\" onclick=\"convertToInteractive('df-489bc904-6b90-476f-987d-0d591fb68dd0')\"\n",
              "              title=\"Convert this dataframe to an interactive table.\"\n",
              "              style=\"display:none;\">\n",
              "        \n",
              "  <svg xmlns=\"http://www.w3.org/2000/svg\" height=\"24px\"viewBox=\"0 0 24 24\"\n",
              "       width=\"24px\">\n",
              "    <path d=\"M0 0h24v24H0V0z\" fill=\"none\"/>\n",
              "    <path d=\"M18.56 5.44l.94 2.06.94-2.06 2.06-.94-2.06-.94-.94-2.06-.94 2.06-2.06.94zm-11 1L8.5 8.5l.94-2.06 2.06-.94-2.06-.94L8.5 2.5l-.94 2.06-2.06.94zm10 10l.94 2.06.94-2.06 2.06-.94-2.06-.94-.94-2.06-.94 2.06-2.06.94z\"/><path d=\"M17.41 7.96l-1.37-1.37c-.4-.4-.92-.59-1.43-.59-.52 0-1.04.2-1.43.59L10.3 9.45l-7.72 7.72c-.78.78-.78 2.05 0 2.83L4 21.41c.39.39.9.59 1.41.59.51 0 1.02-.2 1.41-.59l7.78-7.78 2.81-2.81c.8-.78.8-2.07 0-2.86zM5.41 20L4 18.59l7.72-7.72 1.47 1.35L5.41 20z\"/>\n",
              "  </svg>\n",
              "      </button>\n",
              "      \n",
              "  <style>\n",
              "    .colab-df-container {\n",
              "      display:flex;\n",
              "      flex-wrap:wrap;\n",
              "      gap: 12px;\n",
              "    }\n",
              "\n",
              "    .colab-df-convert {\n",
              "      background-color: #E8F0FE;\n",
              "      border: none;\n",
              "      border-radius: 50%;\n",
              "      cursor: pointer;\n",
              "      display: none;\n",
              "      fill: #1967D2;\n",
              "      height: 32px;\n",
              "      padding: 0 0 0 0;\n",
              "      width: 32px;\n",
              "    }\n",
              "\n",
              "    .colab-df-convert:hover {\n",
              "      background-color: #E2EBFA;\n",
              "      box-shadow: 0px 1px 2px rgba(60, 64, 67, 0.3), 0px 1px 3px 1px rgba(60, 64, 67, 0.15);\n",
              "      fill: #174EA6;\n",
              "    }\n",
              "\n",
              "    [theme=dark] .colab-df-convert {\n",
              "      background-color: #3B4455;\n",
              "      fill: #D2E3FC;\n",
              "    }\n",
              "\n",
              "    [theme=dark] .colab-df-convert:hover {\n",
              "      background-color: #434B5C;\n",
              "      box-shadow: 0px 1px 3px 1px rgba(0, 0, 0, 0.15);\n",
              "      filter: drop-shadow(0px 1px 2px rgba(0, 0, 0, 0.3));\n",
              "      fill: #FFFFFF;\n",
              "    }\n",
              "  </style>\n",
              "\n",
              "      <script>\n",
              "        const buttonEl =\n",
              "          document.querySelector('#df-489bc904-6b90-476f-987d-0d591fb68dd0 button.colab-df-convert');\n",
              "        buttonEl.style.display =\n",
              "          google.colab.kernel.accessAllowed ? 'block' : 'none';\n",
              "\n",
              "        async function convertToInteractive(key) {\n",
              "          const element = document.querySelector('#df-489bc904-6b90-476f-987d-0d591fb68dd0');\n",
              "          const dataTable =\n",
              "            await google.colab.kernel.invokeFunction('convertToInteractive',\n",
              "                                                     [key], {});\n",
              "          if (!dataTable) return;\n",
              "\n",
              "          const docLinkHtml = 'Like what you see? Visit the ' +\n",
              "            '<a target=\"_blank\" href=https://colab.research.google.com/notebooks/data_table.ipynb>data table notebook</a>'\n",
              "            + ' to learn more about interactive tables.';\n",
              "          element.innerHTML = '';\n",
              "          dataTable['output_type'] = 'display_data';\n",
              "          await google.colab.output.renderOutput(dataTable, element);\n",
              "          const docLink = document.createElement('div');\n",
              "          docLink.innerHTML = docLinkHtml;\n",
              "          element.appendChild(docLink);\n",
              "        }\n",
              "      </script>\n",
              "    </div>\n",
              "  </div>\n",
              "  "
            ]
          },
          "metadata": {},
          "execution_count": 11
        }
      ]
    },
    {
      "cell_type": "code",
      "source": [
        "data.drop('review',inplace=True,axis=1)"
      ],
      "metadata": {
        "id": "VGm2OV3BZpwC"
      },
      "execution_count": 14,
      "outputs": []
    },
    {
      "cell_type": "code",
      "source": [
        "data['sentiment'].replace({'negative':0,\"positive\":1},inplace=True)"
      ],
      "metadata": {
        "id": "dt32aQf1fM2K"
      },
      "execution_count": 15,
      "outputs": []
    },
    {
      "cell_type": "code",
      "source": [
        "data_set=data[['clean_text','sentiment']].copy()\n",
        "data_set.head()"
      ],
      "metadata": {
        "colab": {
          "base_uri": "https://localhost:8080/",
          "height": 206
        },
        "id": "LRV2UCjUev2T",
        "outputId": "32aa87a1-ddb6-4f72-9c0a-79c54d1052a9"
      },
      "execution_count": 16,
      "outputs": [
        {
          "output_type": "execute_result",
          "data": {
            "text/plain": [
              "                                          clean_text  sentiment\n",
              "0  One review ment watc 1 Oz episod ll hook Thei ...          1\n",
              "1  A wond littl product br br The fil techniqu un...          1\n",
              "2  I thought wond wai spend time hot summ weekend...          1\n",
              "3  Bas famili littl boi Jake think zombi closet p...          0\n",
              "4  Pett Mattei Love Time Monei visu stun film wat...          1"
            ],
            "text/html": [
              "\n",
              "  <div id=\"df-fb21a481-35d6-45c7-88c9-c6c8a2e602e0\">\n",
              "    <div class=\"colab-df-container\">\n",
              "      <div>\n",
              "<style scoped>\n",
              "    .dataframe tbody tr th:only-of-type {\n",
              "        vertical-align: middle;\n",
              "    }\n",
              "\n",
              "    .dataframe tbody tr th {\n",
              "        vertical-align: top;\n",
              "    }\n",
              "\n",
              "    .dataframe thead th {\n",
              "        text-align: right;\n",
              "    }\n",
              "</style>\n",
              "<table border=\"1\" class=\"dataframe\">\n",
              "  <thead>\n",
              "    <tr style=\"text-align: right;\">\n",
              "      <th></th>\n",
              "      <th>clean_text</th>\n",
              "      <th>sentiment</th>\n",
              "    </tr>\n",
              "  </thead>\n",
              "  <tbody>\n",
              "    <tr>\n",
              "      <th>0</th>\n",
              "      <td>One review ment watc 1 Oz episod ll hook Thei ...</td>\n",
              "      <td>1</td>\n",
              "    </tr>\n",
              "    <tr>\n",
              "      <th>1</th>\n",
              "      <td>A wond littl product br br The fil techniqu un...</td>\n",
              "      <td>1</td>\n",
              "    </tr>\n",
              "    <tr>\n",
              "      <th>2</th>\n",
              "      <td>I thought wond wai spend time hot summ weekend...</td>\n",
              "      <td>1</td>\n",
              "    </tr>\n",
              "    <tr>\n",
              "      <th>3</th>\n",
              "      <td>Bas famili littl boi Jake think zombi closet p...</td>\n",
              "      <td>0</td>\n",
              "    </tr>\n",
              "    <tr>\n",
              "      <th>4</th>\n",
              "      <td>Pett Mattei Love Time Monei visu stun film wat...</td>\n",
              "      <td>1</td>\n",
              "    </tr>\n",
              "  </tbody>\n",
              "</table>\n",
              "</div>\n",
              "      <button class=\"colab-df-convert\" onclick=\"convertToInteractive('df-fb21a481-35d6-45c7-88c9-c6c8a2e602e0')\"\n",
              "              title=\"Convert this dataframe to an interactive table.\"\n",
              "              style=\"display:none;\">\n",
              "        \n",
              "  <svg xmlns=\"http://www.w3.org/2000/svg\" height=\"24px\"viewBox=\"0 0 24 24\"\n",
              "       width=\"24px\">\n",
              "    <path d=\"M0 0h24v24H0V0z\" fill=\"none\"/>\n",
              "    <path d=\"M18.56 5.44l.94 2.06.94-2.06 2.06-.94-2.06-.94-.94-2.06-.94 2.06-2.06.94zm-11 1L8.5 8.5l.94-2.06 2.06-.94-2.06-.94L8.5 2.5l-.94 2.06-2.06.94zm10 10l.94 2.06.94-2.06 2.06-.94-2.06-.94-.94-2.06-.94 2.06-2.06.94z\"/><path d=\"M17.41 7.96l-1.37-1.37c-.4-.4-.92-.59-1.43-.59-.52 0-1.04.2-1.43.59L10.3 9.45l-7.72 7.72c-.78.78-.78 2.05 0 2.83L4 21.41c.39.39.9.59 1.41.59.51 0 1.02-.2 1.41-.59l7.78-7.78 2.81-2.81c.8-.78.8-2.07 0-2.86zM5.41 20L4 18.59l7.72-7.72 1.47 1.35L5.41 20z\"/>\n",
              "  </svg>\n",
              "      </button>\n",
              "      \n",
              "  <style>\n",
              "    .colab-df-container {\n",
              "      display:flex;\n",
              "      flex-wrap:wrap;\n",
              "      gap: 12px;\n",
              "    }\n",
              "\n",
              "    .colab-df-convert {\n",
              "      background-color: #E8F0FE;\n",
              "      border: none;\n",
              "      border-radius: 50%;\n",
              "      cursor: pointer;\n",
              "      display: none;\n",
              "      fill: #1967D2;\n",
              "      height: 32px;\n",
              "      padding: 0 0 0 0;\n",
              "      width: 32px;\n",
              "    }\n",
              "\n",
              "    .colab-df-convert:hover {\n",
              "      background-color: #E2EBFA;\n",
              "      box-shadow: 0px 1px 2px rgba(60, 64, 67, 0.3), 0px 1px 3px 1px rgba(60, 64, 67, 0.15);\n",
              "      fill: #174EA6;\n",
              "    }\n",
              "\n",
              "    [theme=dark] .colab-df-convert {\n",
              "      background-color: #3B4455;\n",
              "      fill: #D2E3FC;\n",
              "    }\n",
              "\n",
              "    [theme=dark] .colab-df-convert:hover {\n",
              "      background-color: #434B5C;\n",
              "      box-shadow: 0px 1px 3px 1px rgba(0, 0, 0, 0.15);\n",
              "      filter: drop-shadow(0px 1px 2px rgba(0, 0, 0, 0.3));\n",
              "      fill: #FFFFFF;\n",
              "    }\n",
              "  </style>\n",
              "\n",
              "      <script>\n",
              "        const buttonEl =\n",
              "          document.querySelector('#df-fb21a481-35d6-45c7-88c9-c6c8a2e602e0 button.colab-df-convert');\n",
              "        buttonEl.style.display =\n",
              "          google.colab.kernel.accessAllowed ? 'block' : 'none';\n",
              "\n",
              "        async function convertToInteractive(key) {\n",
              "          const element = document.querySelector('#df-fb21a481-35d6-45c7-88c9-c6c8a2e602e0');\n",
              "          const dataTable =\n",
              "            await google.colab.kernel.invokeFunction('convertToInteractive',\n",
              "                                                     [key], {});\n",
              "          if (!dataTable) return;\n",
              "\n",
              "          const docLinkHtml = 'Like what you see? Visit the ' +\n",
              "            '<a target=\"_blank\" href=https://colab.research.google.com/notebooks/data_table.ipynb>data table notebook</a>'\n",
              "            + ' to learn more about interactive tables.';\n",
              "          element.innerHTML = '';\n",
              "          dataTable['output_type'] = 'display_data';\n",
              "          await google.colab.output.renderOutput(dataTable, element);\n",
              "          const docLink = document.createElement('div');\n",
              "          docLink.innerHTML = docLinkHtml;\n",
              "          element.appendChild(docLink);\n",
              "        }\n",
              "      </script>\n",
              "    </div>\n",
              "  </div>\n",
              "  "
            ]
          },
          "metadata": {},
          "execution_count": 16
        }
      ]
    },
    {
      "cell_type": "code",
      "source": [
        "index = data_set.index\n",
        "data_set['random_number'] = np.random.randn(len(index))\n",
        "train = data_set[data_set['random_number'] <= 0.8]\n",
        "test = data_set[data_set['random_number'] > 0.8]\n"
      ],
      "metadata": {
        "id": "IkLYKzyWYlkw"
      },
      "execution_count": 17,
      "outputs": []
    },
    {
      "cell_type": "code",
      "source": [
        "data_set.head()"
      ],
      "metadata": {
        "colab": {
          "base_uri": "https://localhost:8080/",
          "height": 206
        },
        "id": "X0Q2zbiJoMbX",
        "outputId": "7d944e36-b19f-4a8b-ef7b-ec2715cdb04b"
      },
      "execution_count": 18,
      "outputs": [
        {
          "output_type": "execute_result",
          "data": {
            "text/plain": [
              "                                          clean_text  sentiment  random_number\n",
              "0  One review ment watc 1 Oz episod ll hook Thei ...          1      -0.209437\n",
              "1  A wond littl product br br The fil techniqu un...          1      -0.518295\n",
              "2  I thought wond wai spend time hot summ weekend...          1       1.311180\n",
              "3  Bas famili littl boi Jake think zombi closet p...          0       0.238930\n",
              "4  Pett Mattei Love Time Monei visu stun film wat...          1      -0.137900"
            ],
            "text/html": [
              "\n",
              "  <div id=\"df-4ad5cbcb-d9ab-409f-bdf0-e5885960f204\">\n",
              "    <div class=\"colab-df-container\">\n",
              "      <div>\n",
              "<style scoped>\n",
              "    .dataframe tbody tr th:only-of-type {\n",
              "        vertical-align: middle;\n",
              "    }\n",
              "\n",
              "    .dataframe tbody tr th {\n",
              "        vertical-align: top;\n",
              "    }\n",
              "\n",
              "    .dataframe thead th {\n",
              "        text-align: right;\n",
              "    }\n",
              "</style>\n",
              "<table border=\"1\" class=\"dataframe\">\n",
              "  <thead>\n",
              "    <tr style=\"text-align: right;\">\n",
              "      <th></th>\n",
              "      <th>clean_text</th>\n",
              "      <th>sentiment</th>\n",
              "      <th>random_number</th>\n",
              "    </tr>\n",
              "  </thead>\n",
              "  <tbody>\n",
              "    <tr>\n",
              "      <th>0</th>\n",
              "      <td>One review ment watc 1 Oz episod ll hook Thei ...</td>\n",
              "      <td>1</td>\n",
              "      <td>-0.209437</td>\n",
              "    </tr>\n",
              "    <tr>\n",
              "      <th>1</th>\n",
              "      <td>A wond littl product br br The fil techniqu un...</td>\n",
              "      <td>1</td>\n",
              "      <td>-0.518295</td>\n",
              "    </tr>\n",
              "    <tr>\n",
              "      <th>2</th>\n",
              "      <td>I thought wond wai spend time hot summ weekend...</td>\n",
              "      <td>1</td>\n",
              "      <td>1.311180</td>\n",
              "    </tr>\n",
              "    <tr>\n",
              "      <th>3</th>\n",
              "      <td>Bas famili littl boi Jake think zombi closet p...</td>\n",
              "      <td>0</td>\n",
              "      <td>0.238930</td>\n",
              "    </tr>\n",
              "    <tr>\n",
              "      <th>4</th>\n",
              "      <td>Pett Mattei Love Time Monei visu stun film wat...</td>\n",
              "      <td>1</td>\n",
              "      <td>-0.137900</td>\n",
              "    </tr>\n",
              "  </tbody>\n",
              "</table>\n",
              "</div>\n",
              "      <button class=\"colab-df-convert\" onclick=\"convertToInteractive('df-4ad5cbcb-d9ab-409f-bdf0-e5885960f204')\"\n",
              "              title=\"Convert this dataframe to an interactive table.\"\n",
              "              style=\"display:none;\">\n",
              "        \n",
              "  <svg xmlns=\"http://www.w3.org/2000/svg\" height=\"24px\"viewBox=\"0 0 24 24\"\n",
              "       width=\"24px\">\n",
              "    <path d=\"M0 0h24v24H0V0z\" fill=\"none\"/>\n",
              "    <path d=\"M18.56 5.44l.94 2.06.94-2.06 2.06-.94-2.06-.94-.94-2.06-.94 2.06-2.06.94zm-11 1L8.5 8.5l.94-2.06 2.06-.94-2.06-.94L8.5 2.5l-.94 2.06-2.06.94zm10 10l.94 2.06.94-2.06 2.06-.94-2.06-.94-.94-2.06-.94 2.06-2.06.94z\"/><path d=\"M17.41 7.96l-1.37-1.37c-.4-.4-.92-.59-1.43-.59-.52 0-1.04.2-1.43.59L10.3 9.45l-7.72 7.72c-.78.78-.78 2.05 0 2.83L4 21.41c.39.39.9.59 1.41.59.51 0 1.02-.2 1.41-.59l7.78-7.78 2.81-2.81c.8-.78.8-2.07 0-2.86zM5.41 20L4 18.59l7.72-7.72 1.47 1.35L5.41 20z\"/>\n",
              "  </svg>\n",
              "      </button>\n",
              "      \n",
              "  <style>\n",
              "    .colab-df-container {\n",
              "      display:flex;\n",
              "      flex-wrap:wrap;\n",
              "      gap: 12px;\n",
              "    }\n",
              "\n",
              "    .colab-df-convert {\n",
              "      background-color: #E8F0FE;\n",
              "      border: none;\n",
              "      border-radius: 50%;\n",
              "      cursor: pointer;\n",
              "      display: none;\n",
              "      fill: #1967D2;\n",
              "      height: 32px;\n",
              "      padding: 0 0 0 0;\n",
              "      width: 32px;\n",
              "    }\n",
              "\n",
              "    .colab-df-convert:hover {\n",
              "      background-color: #E2EBFA;\n",
              "      box-shadow: 0px 1px 2px rgba(60, 64, 67, 0.3), 0px 1px 3px 1px rgba(60, 64, 67, 0.15);\n",
              "      fill: #174EA6;\n",
              "    }\n",
              "\n",
              "    [theme=dark] .colab-df-convert {\n",
              "      background-color: #3B4455;\n",
              "      fill: #D2E3FC;\n",
              "    }\n",
              "\n",
              "    [theme=dark] .colab-df-convert:hover {\n",
              "      background-color: #434B5C;\n",
              "      box-shadow: 0px 1px 3px 1px rgba(0, 0, 0, 0.15);\n",
              "      filter: drop-shadow(0px 1px 2px rgba(0, 0, 0, 0.3));\n",
              "      fill: #FFFFFF;\n",
              "    }\n",
              "  </style>\n",
              "\n",
              "      <script>\n",
              "        const buttonEl =\n",
              "          document.querySelector('#df-4ad5cbcb-d9ab-409f-bdf0-e5885960f204 button.colab-df-convert');\n",
              "        buttonEl.style.display =\n",
              "          google.colab.kernel.accessAllowed ? 'block' : 'none';\n",
              "\n",
              "        async function convertToInteractive(key) {\n",
              "          const element = document.querySelector('#df-4ad5cbcb-d9ab-409f-bdf0-e5885960f204');\n",
              "          const dataTable =\n",
              "            await google.colab.kernel.invokeFunction('convertToInteractive',\n",
              "                                                     [key], {});\n",
              "          if (!dataTable) return;\n",
              "\n",
              "          const docLinkHtml = 'Like what you see? Visit the ' +\n",
              "            '<a target=\"_blank\" href=https://colab.research.google.com/notebooks/data_table.ipynb>data table notebook</a>'\n",
              "            + ' to learn more about interactive tables.';\n",
              "          element.innerHTML = '';\n",
              "          dataTable['output_type'] = 'display_data';\n",
              "          await google.colab.output.renderOutput(dataTable, element);\n",
              "          const docLink = document.createElement('div');\n",
              "          docLink.innerHTML = docLinkHtml;\n",
              "          element.appendChild(docLink);\n",
              "        }\n",
              "      </script>\n",
              "    </div>\n",
              "  </div>\n",
              "  "
            ]
          },
          "metadata": {},
          "execution_count": 18
        }
      ]
    },
    {
      "cell_type": "code",
      "source": [
        "train.drop('random_number',inplace=True,axis=1)\n",
        "test.drop('random_number',inplace=True,axis=1)"
      ],
      "metadata": {
        "colab": {
          "base_uri": "https://localhost:8080/"
        },
        "id": "Khh_--EwoTZM",
        "outputId": "570d288d-92bd-476d-e3be-15e3f531dc6e"
      },
      "execution_count": 22,
      "outputs": [
        {
          "output_type": "stream",
          "name": "stderr",
          "text": [
            "/usr/local/lib/python3.7/dist-packages/pandas/core/frame.py:4913: SettingWithCopyWarning: \n",
            "A value is trying to be set on a copy of a slice from a DataFrame\n",
            "\n",
            "See the caveats in the documentation: https://pandas.pydata.org/pandas-docs/stable/user_guide/indexing.html#returning-a-view-versus-a-copy\n",
            "  errors=errors,\n"
          ]
        }
      ]
    },
    {
      "cell_type": "code",
      "source": [
        "train.shape,test.shape"
      ],
      "metadata": {
        "colab": {
          "base_uri": "https://localhost:8080/"
        },
        "id": "55hcl90rkqw_",
        "outputId": "999a6f6d-134d-4556-8c52-4f59b0af95f4"
      },
      "execution_count": 23,
      "outputs": [
        {
          "output_type": "execute_result",
          "data": {
            "text/plain": [
              "((39596, 2), (10404, 2))"
            ]
          },
          "metadata": {},
          "execution_count": 23
        }
      ]
    },
    {
      "cell_type": "code",
      "source": [
        "test.head()"
      ],
      "metadata": {
        "colab": {
          "base_uri": "https://localhost:8080/",
          "height": 206
        },
        "id": "lAgOkB6ykxpL",
        "outputId": "db3151b5-c05f-4d75-c36e-a7fe3bb2cdb9"
      },
      "execution_count": 25,
      "outputs": [
        {
          "output_type": "execute_result",
          "data": {
            "text/plain": [
              "                                           clean_text  sentiment\n",
              "2   I thought wond wai spend time hot summ weekend...          1\n",
              "12  So im big fan Boll work mani I enjoi movi Post...          0\n",
              "13  The cast plai Shakespear br br Shakespear lost...          0\n",
              "15  Kind drawn erot scen real one amateurish unbel...          0\n",
              "20  Aft success Die Hard sequel surpris real 1990 ...          1"
            ],
            "text/html": [
              "\n",
              "  <div id=\"df-ac8a4947-f048-4b9c-a4ce-f8b92f051aa3\">\n",
              "    <div class=\"colab-df-container\">\n",
              "      <div>\n",
              "<style scoped>\n",
              "    .dataframe tbody tr th:only-of-type {\n",
              "        vertical-align: middle;\n",
              "    }\n",
              "\n",
              "    .dataframe tbody tr th {\n",
              "        vertical-align: top;\n",
              "    }\n",
              "\n",
              "    .dataframe thead th {\n",
              "        text-align: right;\n",
              "    }\n",
              "</style>\n",
              "<table border=\"1\" class=\"dataframe\">\n",
              "  <thead>\n",
              "    <tr style=\"text-align: right;\">\n",
              "      <th></th>\n",
              "      <th>clean_text</th>\n",
              "      <th>sentiment</th>\n",
              "    </tr>\n",
              "  </thead>\n",
              "  <tbody>\n",
              "    <tr>\n",
              "      <th>2</th>\n",
              "      <td>I thought wond wai spend time hot summ weekend...</td>\n",
              "      <td>1</td>\n",
              "    </tr>\n",
              "    <tr>\n",
              "      <th>12</th>\n",
              "      <td>So im big fan Boll work mani I enjoi movi Post...</td>\n",
              "      <td>0</td>\n",
              "    </tr>\n",
              "    <tr>\n",
              "      <th>13</th>\n",
              "      <td>The cast plai Shakespear br br Shakespear lost...</td>\n",
              "      <td>0</td>\n",
              "    </tr>\n",
              "    <tr>\n",
              "      <th>15</th>\n",
              "      <td>Kind drawn erot scen real one amateurish unbel...</td>\n",
              "      <td>0</td>\n",
              "    </tr>\n",
              "    <tr>\n",
              "      <th>20</th>\n",
              "      <td>Aft success Die Hard sequel surpris real 1990 ...</td>\n",
              "      <td>1</td>\n",
              "    </tr>\n",
              "  </tbody>\n",
              "</table>\n",
              "</div>\n",
              "      <button class=\"colab-df-convert\" onclick=\"convertToInteractive('df-ac8a4947-f048-4b9c-a4ce-f8b92f051aa3')\"\n",
              "              title=\"Convert this dataframe to an interactive table.\"\n",
              "              style=\"display:none;\">\n",
              "        \n",
              "  <svg xmlns=\"http://www.w3.org/2000/svg\" height=\"24px\"viewBox=\"0 0 24 24\"\n",
              "       width=\"24px\">\n",
              "    <path d=\"M0 0h24v24H0V0z\" fill=\"none\"/>\n",
              "    <path d=\"M18.56 5.44l.94 2.06.94-2.06 2.06-.94-2.06-.94-.94-2.06-.94 2.06-2.06.94zm-11 1L8.5 8.5l.94-2.06 2.06-.94-2.06-.94L8.5 2.5l-.94 2.06-2.06.94zm10 10l.94 2.06.94-2.06 2.06-.94-2.06-.94-.94-2.06-.94 2.06-2.06.94z\"/><path d=\"M17.41 7.96l-1.37-1.37c-.4-.4-.92-.59-1.43-.59-.52 0-1.04.2-1.43.59L10.3 9.45l-7.72 7.72c-.78.78-.78 2.05 0 2.83L4 21.41c.39.39.9.59 1.41.59.51 0 1.02-.2 1.41-.59l7.78-7.78 2.81-2.81c.8-.78.8-2.07 0-2.86zM5.41 20L4 18.59l7.72-7.72 1.47 1.35L5.41 20z\"/>\n",
              "  </svg>\n",
              "      </button>\n",
              "      \n",
              "  <style>\n",
              "    .colab-df-container {\n",
              "      display:flex;\n",
              "      flex-wrap:wrap;\n",
              "      gap: 12px;\n",
              "    }\n",
              "\n",
              "    .colab-df-convert {\n",
              "      background-color: #E8F0FE;\n",
              "      border: none;\n",
              "      border-radius: 50%;\n",
              "      cursor: pointer;\n",
              "      display: none;\n",
              "      fill: #1967D2;\n",
              "      height: 32px;\n",
              "      padding: 0 0 0 0;\n",
              "      width: 32px;\n",
              "    }\n",
              "\n",
              "    .colab-df-convert:hover {\n",
              "      background-color: #E2EBFA;\n",
              "      box-shadow: 0px 1px 2px rgba(60, 64, 67, 0.3), 0px 1px 3px 1px rgba(60, 64, 67, 0.15);\n",
              "      fill: #174EA6;\n",
              "    }\n",
              "\n",
              "    [theme=dark] .colab-df-convert {\n",
              "      background-color: #3B4455;\n",
              "      fill: #D2E3FC;\n",
              "    }\n",
              "\n",
              "    [theme=dark] .colab-df-convert:hover {\n",
              "      background-color: #434B5C;\n",
              "      box-shadow: 0px 1px 3px 1px rgba(0, 0, 0, 0.15);\n",
              "      filter: drop-shadow(0px 1px 2px rgba(0, 0, 0, 0.3));\n",
              "      fill: #FFFFFF;\n",
              "    }\n",
              "  </style>\n",
              "\n",
              "      <script>\n",
              "        const buttonEl =\n",
              "          document.querySelector('#df-ac8a4947-f048-4b9c-a4ce-f8b92f051aa3 button.colab-df-convert');\n",
              "        buttonEl.style.display =\n",
              "          google.colab.kernel.accessAllowed ? 'block' : 'none';\n",
              "\n",
              "        async function convertToInteractive(key) {\n",
              "          const element = document.querySelector('#df-ac8a4947-f048-4b9c-a4ce-f8b92f051aa3');\n",
              "          const dataTable =\n",
              "            await google.colab.kernel.invokeFunction('convertToInteractive',\n",
              "                                                     [key], {});\n",
              "          if (!dataTable) return;\n",
              "\n",
              "          const docLinkHtml = 'Like what you see? Visit the ' +\n",
              "            '<a target=\"_blank\" href=https://colab.research.google.com/notebooks/data_table.ipynb>data table notebook</a>'\n",
              "            + ' to learn more about interactive tables.';\n",
              "          element.innerHTML = '';\n",
              "          dataTable['output_type'] = 'display_data';\n",
              "          await google.colab.output.renderOutput(dataTable, element);\n",
              "          const docLink = document.createElement('div');\n",
              "          docLink.innerHTML = docLinkHtml;\n",
              "          element.appendChild(docLink);\n",
              "        }\n",
              "      </script>\n",
              "    </div>\n",
              "  </div>\n",
              "  "
            ]
          },
          "metadata": {},
          "execution_count": 25
        }
      ]
    },
    {
      "cell_type": "markdown",
      "source": [
        "## Word Embedding with TF-IDF"
      ],
      "metadata": {
        "id": "gx1-jCL_45CD"
      }
    },
    {
      "cell_type": "code",
      "source": [
        "import re\n",
        "class FrequencyEcoder:\n",
        "\n",
        "    def __init__(self, data):\n",
        "        \"\"\"These data here has to be cleaned without those special symbols.\"\"\"\n",
        "        self.data = data\n",
        "\n",
        "    \"\"\"This function has task of computing the frequency of the word in each row of the file and returns the row as dictionary of word as key and \n",
        "    frequency as value.\n",
        "    \"\"\"\n",
        "\n",
        "    def remove_char(text):\n",
        "        clean = re.compile('<.*?>')\n",
        "        return re.sub(clean, '', text)\n",
        "\n",
        "    def frequency_computer(self, string):\n",
        "\n",
        "        string = string.split()\n",
        "\n",
        "        dict_freq = {}\n",
        "\n",
        "        freq_list = []\n",
        "\n",
        "        for i in string:\n",
        "            if i not in freq_list:\n",
        "                #             print(i)\n",
        "                freq_list.append(i)\n",
        "        for j in range(0, len(freq_list)):\n",
        "            dict_freq[freq_list[j]] = string.count(freq_list[j])\n",
        "        return dict_freq\n",
        "\n",
        "    \"\"\"This function is for changing each row of the file into dictionary words as keys and their repetitions as values. It will be usefully to\n",
        "    the time of replacing the word by its total frequency in all file.\n",
        "    \"\"\"\n",
        "\n",
        "    def row_to_dict(self):\n",
        "        inputs = self.data\n",
        "        for index, item in inputs.items():\n",
        "            inputs[index] = self.remove_char(item).replace('br br', ' ')\n",
        "            for _ in inputs[index]:\n",
        "                if type(_) == int:\n",
        "                    inputs[index] = item.replace('_', ' ')\n",
        "\n",
        "            inputs[index] = frequency_computer(inputs[index])\n",
        "        return inputs\n",
        "\n",
        "\n",
        "\"\"\"Convert each row of the file into the list of words \n",
        "  --------------------------------------------------------\n",
        "  This function has objective of transforming the row of file into the list of words in each row\n",
        "    \"\"\"\n",
        "\n",
        "\n",
        "def conv(self, stock_str):\n",
        "    n = int(input('Enter the number of rows modify: '))\n",
        "\n",
        "    for i in range(n):\n",
        "        print(stock_str[i])\n",
        "        liste = stock_str[i].split()\n",
        "\n",
        "        #         st=','.join([item  for item in liste])\n",
        "        stock_str[i] = liste\n",
        "\n",
        "    return stock_str[:n]\n",
        "\n",
        "\n",
        "\"\"\"Combination of two dictionaries to get one with updated values, here we take two rows that \n",
        "contains dictionaris and put them together to get one dictionary of updated keys and value\n",
        "----------\n",
        "This function will be useful to the time of finding frequency of each word in a whole document\n",
        "\"\"\"\n",
        "\n",
        "\n",
        "def dict_combine_2(self, dic1, dic2):\n",
        "    return dict(sorted({k: dic1.get(k, 0) + dic2.get(k, 0) for k in set(dic1) | set(dic2)}.items()))\n",
        "\n",
        "\n",
        "\"\"\"ENCODING DOCUMENT \n",
        "---------------------\n",
        "  This function is going to use that function which combine two dictionaries and use it to get a frequency of each word in full document.\n",
        "            \"\"\"\n",
        "\n",
        "\n",
        "def final_encoder(self):\n",
        "    dict_store = self.row_to_dict()\n",
        "\n",
        "    start = dict_store[0]\n",
        "\n",
        "    for i in range(1, len(dict_store)):\n",
        "        var = self.dict_combine_2(start, dict_store[i])\n",
        "        start = var\n",
        "    return start\n",
        "\n",
        "\n",
        "\"\"\"Transform the  file\n",
        "-----------------------------\n",
        "This function is tasked to use a created functions, and produces the encoded file using the frequencies of words in a whole file.\n",
        "\"\"\"\n",
        "\n",
        "\n",
        "def transform(self):\n",
        "    inputs = self.row_to_dict()\n",
        "    temp = self.conv(self.data)\n",
        "\n",
        "    ff = self.final_encoder(inputs[:5])\n",
        "\n",
        "    final = []\n",
        "    new_df = temp.copy()\n",
        "    for idx, item in enumerate(temp):\n",
        "        final = []\n",
        "        for x in item:\n",
        "            if x in ff.keys():\n",
        "                final.append(ff[x])\n",
        "        new_df[idx] = final\n",
        "\n",
        "    return new_df"
      ],
      "metadata": {
        "id": "JfXdnKAMxh5M"
      },
      "execution_count": 56,
      "outputs": []
    },
    {
      "cell_type": "code",
      "source": [
        "vectorizer= FrequencyEcoder()\n",
        "tf_x_train = vectorizer.transform(train['clean_text'])\n",
        "tf_x_test = vectorizer.transform(test['clean_text'])"
      ],
      "metadata": {
        "id": "efSaUAdH3bB4"
      },
      "execution_count": null,
      "outputs": []
    },
    {
      "cell_type": "markdown",
      "source": [
        "## Dimension Reduction Using SVD"
      ],
      "metadata": {
        "id": "li8A2Tm14_kV"
      }
    },
    {
      "cell_type": "code",
      "source": [
        "new_data=SVD.svd_decompose(tf_x_train,6)\n",
        "new_data_test=svd_decompose(tf_x_test,6)"
      ],
      "metadata": {
        "id": "EOu5xMsD1jGo"
      },
      "execution_count": 33,
      "outputs": []
    },
    {
      "cell_type": "code",
      "source": [
        "new_data_test.shape,new_data.shape"
      ],
      "metadata": {
        "colab": {
          "base_uri": "https://localhost:8080/"
        },
        "id": "u07AjyJ4XJTZ",
        "outputId": "3459439b-1a5f-498f-d3b1-19f9ef16912e"
      },
      "execution_count": 36,
      "outputs": [
        {
          "output_type": "execute_result",
          "data": {
            "text/plain": [
              "((10404, 6), (1000, 6))"
            ]
          },
          "metadata": {},
          "execution_count": 36
        }
      ]
    },
    {
      "cell_type": "markdown",
      "source": [
        "## Gaussian Mixture Model"
      ],
      "metadata": {
        "id": "Fq2n_7Uf5D1Q"
      }
    },
    {
      "cell_type": "code",
      "source": [
        "class GMM:\n",
        "    \"\"\"\n",
        "        This class is the implementation of the Gaussian Mixture Models\n",
        "        inspired by sci-kit learn implementation.\n",
        "    \"\"\"\n",
        "\n",
        "    def __init__(self, n_components, max_iter=100, comp_names=None):\n",
        "        \"\"\"\n",
        "            This functions initializes the model by seting the following paramenters:\n",
        "                :param n_components: int\n",
        "                    The number of clusters in which the algorithm must split\n",
        "                    the data set\n",
        "                :param max_iter: int, default = 100\n",
        "                    The number of iteration that the algorithm will go throw to find the clusters\n",
        "                :param comp_names: list of strings, default=None\n",
        "                    In case it is setted as a list of string it will use to\n",
        "                    name the clusters\n",
        "        \"\"\"\n",
        "        self.n_componets = n_components\n",
        "        self.max_iter = max_iter\n",
        "        if comp_names == None:\n",
        "            self.comp_names = [f\"comp{index}\" for index in range(self.n_componets)]\n",
        "        else:\n",
        "            self.comp_names = comp_names\n",
        "        # pi list contains the fraction of the dataset for every cluster\n",
        "        self.pi = [1 / self.n_componets for comp in range(self.n_componets)]\n",
        "\n",
        "    def multivariate_normal(self, X, mean_vector, covariance_matrix):\n",
        "        \"\"\"\n",
        "            This function implements the multivariat normal derivation formula,\n",
        "            the normal distribution for vectors it requires the following parameters\n",
        "                :param X: 1-d numpy array\n",
        "                    The row-vector for which we want to calculate the distribution\n",
        "                :param mean_vector: 1-d numpy array\n",
        "                    The row-vector that contains the means for each column\n",
        "                :param covariance_matrix: 2-d numpy array (matrix)\n",
        "                    The 2-d matrix that contain the covariances for the features\n",
        "        \"\"\"\n",
        "        return (2 * np.pi) ** (-len(X) / 2) * np.linalg.det(covariance_matrix) ** (-1 / 2) * np.exp(\n",
        "            -np.dot(np.dot((X - mean_vector).T, np.linalg.inv(covariance_matrix)), (X - mean_vector)) / 2)\n",
        "\n",
        "    def fit(self, X):\n",
        "        \"\"\"\n",
        "            The function for training the model\n",
        "                :param X: 2-d numpy array\n",
        "                    The data must be passed to the algorithm as 2-d array,\n",
        "                    where columns are the features and the rows are the samples\n",
        "        \"\"\"\n",
        "        # Spliting the data in n_componets sub-sets\n",
        "        new_X = np.array_split(X, self.n_componets)\n",
        "        # Initial computation of the mean-vector and covarience matrix\n",
        "        self.mean_vector = [np.mean(x, axis=0) for x in new_X]\n",
        "        self.covariance_matrixes = [np.cov(x.T) for x in new_X]\n",
        "        # Deleting the new_X matrix because we will not need it anymore\n",
        "        del new_X\n",
        "        for iteration in range(self.max_iter):\n",
        "            ''' --------------------------   E - STEP   -------------------------- '''\n",
        "            # Initiating the r matrix, evrey row contains the probabilities\n",
        "            # for every cluster for this row\n",
        "            self.r = np.zeros((len(X), self.n_componets))\n",
        "            # Calculating the r matrix\n",
        "            for n in range(len(X)):\n",
        "                for k in range(self.n_componets):\n",
        "                    self.r[n][k] = self.pi[k] * self.multivariate_normal(X[n], self.mean_vector[k],\n",
        "                                                                         self.covariance_matrixes[k])\n",
        "                    self.r[n][k] /= sum(\n",
        "                        [self.pi[j] * self.multivariate_normal(X[n], self.mean_vector[j], self.covariance_matrixes[j])\n",
        "                         for j in range(self.n_componets)])\n",
        "                    print(self.multivariate_normal(X[n], self.mean_vector[k], self.covariance_matrixes[k]))\n",
        "            # Calculating the N\n",
        "            N = np.sum(self.r, axis=0)\n",
        "            ''' --------------------------   M - STEP   -------------------------- '''\n",
        "            # Initializing the mean vector as a zero vector\n",
        "            self.mean_vector = np.zeros((self.n_componets, len(X[0])))\n",
        "            # Updating the mean vector\n",
        "            for k in range(self.n_componets):\n",
        "                for n in range(len(X)):\n",
        "                    self.mean_vector[k] += self.r[n][k] * X[n]\n",
        "            self.mean_vector = [1 / N[k] * self.mean_vector[k] for k in range(self.n_componets)]\n",
        "            # Initiating the list of the covariance matrixes\n",
        "            self.covariance_matrixes = [np.zeros((len(X[0]), len(X[0]))) for k in range(self.n_componets)]\n",
        "            # Updating the covariance matrices\n",
        "            for k in range(self.n_componets):\n",
        "                self.covariance_matrixes[k] = np.cov(X.T, aweights=(self.r[:, k]), ddof=0)\n",
        "            self.covariance_matrixes = [1 / N[k] * self.covariance_matrixes[k] for k in range(self.n_componets)]\n",
        "            # Updating the pi list\n",
        "            self.pi = [N[k] / len(X) for k in range(self.n_componets)]\n",
        "\n",
        "    def predict(self, X):\n",
        "        \"\"\"\n",
        "            The predicting function\n",
        "                :param X: 2-d array numpy array\n",
        "                    The data on which we must predict the clusters\n",
        "        \"\"\"\n",
        "        probas = []\n",
        "        for n in range(len(X)):\n",
        "            probas.append([self.multivariate_normal(X[n], self.mean_vector[k], self.covariance_matrixes[k])\n",
        "                           for k in range(self.n_componets)])\n",
        "        cluster = []\n",
        "        for proba in probas:\n",
        "            cluster.append(self.comp_names[proba.index(max(proba))])\n",
        "        return cluster"
      ],
      "metadata": {
        "id": "onpr3TrA0VMj"
      },
      "execution_count": 69,
      "outputs": []
    },
    {
      "cell_type": "code",
      "source": [
        "\n",
        "gm=GMM()\n",
        "gm.fit(new_data,2)"
      ],
      "metadata": {
        "id": "3w7SrluJWfA-"
      },
      "execution_count": 71,
      "outputs": []
    },
    {
      "cell_type": "code",
      "source": [
        "gm.predict(new_data_test)"
      ],
      "metadata": {
        "id": "5Dqb1JfKfEVU"
      },
      "execution_count": 44,
      "outputs": []
    },
    {
      "cell_type": "code",
      "source": [
        ""
      ],
      "metadata": {
        "id": "8yVTyoqxnX5q"
      },
      "execution_count": null,
      "outputs": []
    }
  ]
}